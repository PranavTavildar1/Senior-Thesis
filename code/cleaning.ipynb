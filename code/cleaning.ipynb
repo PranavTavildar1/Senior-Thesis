{
 "cells": [
  {
   "cell_type": "code",
   "execution_count": 13,
   "metadata": {},
   "outputs": [],
   "source": [
    "import pandas as pd\n",
    "import numpy as np\n",
    "import os\n",
    "import glob"
   ]
  },
  {
   "cell_type": "code",
   "execution_count": 22,
   "metadata": {},
   "outputs": [
    {
     "data": {
      "text/plain": [
       "['CVX-Tweets-1-2021-310.csv',\n",
       " 'CVX-Tweets-1-2022-310.csv',\n",
       " 'CVX-Tweets-10-2021-310.csv',\n",
       " 'CVX-Tweets-10-2022-310.csv',\n",
       " 'CVX-Tweets-11-2021-300.csv',\n",
       " 'CVX-Tweets-11-2022-300.csv',\n",
       " 'CVX-Tweets-12-2021-310.csv',\n",
       " 'CVX-Tweets-12-2022-310.csv',\n",
       " 'CVX-Tweets-2-2021-280.csv',\n",
       " 'CVX-Tweets-2-2022-280.csv',\n",
       " 'CVX-Tweets-3-2021-310.csv',\n",
       " 'CVX-Tweets-3-2022-310.csv',\n",
       " 'CVX-Tweets-4-2021-300.csv',\n",
       " 'CVX-Tweets-4-2022-300.csv',\n",
       " 'CVX-Tweets-5-2021-310.csv',\n",
       " 'CVX-Tweets-5-2022-310.csv',\n",
       " 'CVX-Tweets-6-2021-300.csv',\n",
       " 'CVX-Tweets-6-2022-300.csv',\n",
       " 'CVX-Tweets-7-2021-310.csv',\n",
       " 'CVX-Tweets-7-2022-310.csv',\n",
       " 'CVX-Tweets-8-2021-310.csv',\n",
       " 'CVX-Tweets-8-2022-310.csv',\n",
       " 'CVX-Tweets-9-2021-300.csv',\n",
       " 'CVX-Tweets-9-2022-300.csv']"
      ]
     },
     "execution_count": 22,
     "metadata": {},
     "output_type": "execute_result"
    }
   ],
   "source": [
    "os.chdir(\"/Users/pranavtavildar/Desktop/Senior-Thesis/data/monthlydata\")\n",
    "extension = 'csv'\n",
    "all_filenames = sorted([i for i in glob.glob('*.{}'.format(extension))])\n",
    "all_filenames"
   ]
  },
  {
   "cell_type": "code",
   "execution_count": 28,
   "metadata": {},
   "outputs": [
    {
     "data": {
      "text/plain": [
       "24"
      ]
     },
     "execution_count": 28,
     "metadata": {},
     "output_type": "execute_result"
    }
   ],
   "source": []
  },
  {
   "cell_type": "code",
   "execution_count": 35,
   "metadata": {},
   "outputs": [
    {
     "data": {
      "text/plain": [
       "int"
      ]
     },
     "execution_count": 35,
     "metadata": {},
     "output_type": "execute_result"
    }
   ],
   "source": [
    "def splicer(string):\n",
    "    result = string[-7:-4] \n",
    "    return(result)\n",
    "\n",
    "no_tweets = [int(splicer(i)) for i in all_filenames]\n"
   ]
  },
  {
   "cell_type": "code",
   "execution_count": 57,
   "metadata": {},
   "outputs": [
    {
     "name": "stdout",
     "output_type": "stream",
     "text": [
      "7300\n",
      "310\n"
     ]
    }
   ],
   "source": [
    "def selector(f_list):\n",
    "    anomalies = []\n",
    "    count = 0 \n",
    "    for i, j in enumerate(f_list):\n",
    "        df = pd.read_csv(j, encoding='utf-8-sig',lineterminator='\\n')\n",
    "        # print(df.shape[0])\n",
    "        # print(no_tweets[i])\n",
    "        count += df.shape[0]\n",
    "        if(df.shape[0]!=no_tweets[i]):\n",
    "            anomalies.append(j)\n",
    "    return count\n",
    "\n",
    "print(selector(all_filenames))\n",
    "\n",
    "df = pd.read_csv(\"CVX-Tweets-1-2021-310.csv\", encoding='utf-8-sig',lineterminator='\\n')\n",
    "print(df.shape[0])"
   ]
  }
 ],
 "metadata": {
  "kernelspec": {
   "display_name": "Python 3",
   "language": "python",
   "name": "python3"
  },
  "language_info": {
   "codemirror_mode": {
    "name": "ipython",
    "version": 3
   },
   "file_extension": ".py",
   "mimetype": "text/x-python",
   "name": "python",
   "nbconvert_exporter": "python",
   "pygments_lexer": "ipython3",
   "version": "3.10.0"
  },
  "orig_nbformat": 4,
  "vscode": {
   "interpreter": {
    "hash": "aee8b7b246df8f9039afb4144a1f6fd8d2ca17a180786b69acc140d282b71a49"
   }
  }
 },
 "nbformat": 4,
 "nbformat_minor": 2
}
