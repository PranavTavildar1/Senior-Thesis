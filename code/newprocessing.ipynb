{
 "cells": [
  {
   "cell_type": "code",
   "execution_count": 16,
   "metadata": {},
   "outputs": [],
   "source": [
    "import pandas as pd\n",
    "import glob\n",
    "import os\n",
    "import numpy as np\n",
    "import matplotlib.pyplot as plt"
   ]
  },
  {
   "cell_type": "code",
   "execution_count": 10,
   "metadata": {},
   "outputs": [],
   "source": [
    "os.chdir(\"/Users/pranavtavildar/Desktop/Senior-Thesis/data\")\n",
    "extension = 'csv'\n",
    "all_filenames = [i for i in glob.glob('*.{}'.format(extension))]\n",
    "all_filenames = all_filenames[:12]\n",
    "#combine all files in the list\n",
    "combined_csv = pd.concat([pd.read_csv(f) for f in all_filenames ])\n",
    "#export to csv\n",
    "combined_csv.to_csv( \"ChevronOil2022.csv\", index=False, encoding='utf-8-sig')\n",
    "combined_csv[\"Text\"] =combined_csv[\"Text\"].map(str)"
   ]
  },
  {
   "cell_type": "code",
   "execution_count": 11,
   "metadata": {},
   "outputs": [],
   "source": [
    "from transformers import pipeline"
   ]
  },
  {
   "cell_type": "code",
   "execution_count": 12,
   "metadata": {},
   "outputs": [
    {
     "name": "stderr",
     "output_type": "stream",
     "text": [
      "No model was supplied, defaulted to distilbert-base-uncased-finetuned-sst-2-english and revision af0f99b (https://huggingface.co/distilbert-base-uncased-finetuned-sst-2-english).\n",
      "Using a pipeline without specifying a model name and revision in production is not recommended.\n",
      "Some layers from the model checkpoint at distilbert-base-uncased-finetuned-sst-2-english were not used when initializing TFDistilBertForSequenceClassification: ['dropout_19']\n",
      "- This IS expected if you are initializing TFDistilBertForSequenceClassification from the checkpoint of a model trained on another task or with another architecture (e.g. initializing a BertForSequenceClassification model from a BertForPreTraining model).\n",
      "- This IS NOT expected if you are initializing TFDistilBertForSequenceClassification from the checkpoint of a model that you expect to be exactly identical (initializing a BertForSequenceClassification model from a BertForSequenceClassification model).\n",
      "Some layers of TFDistilBertForSequenceClassification were not initialized from the model checkpoint at distilbert-base-uncased-finetuned-sst-2-english and are newly initialized: ['dropout_39']\n",
      "You should probably TRAIN this model on a down-stream task to be able to use it for predictions and inference.\n"
     ]
    },
    {
     "data": {
      "text/html": [
       "<div>\n",
       "<style scoped>\n",
       "    .dataframe tbody tr th:only-of-type {\n",
       "        vertical-align: middle;\n",
       "    }\n",
       "\n",
       "    .dataframe tbody tr th {\n",
       "        vertical-align: top;\n",
       "    }\n",
       "\n",
       "    .dataframe thead th {\n",
       "        text-align: right;\n",
       "    }\n",
       "</style>\n",
       "<table border=\"1\" class=\"dataframe\">\n",
       "  <thead>\n",
       "    <tr style=\"text-align: right;\">\n",
       "      <th></th>\n",
       "      <th>Date</th>\n",
       "      <th>Tweet ID</th>\n",
       "      <th>Text</th>\n",
       "      <th>Username</th>\n",
       "      <th>Likes</th>\n",
       "      <th>sentiment</th>\n",
       "      <th>label</th>\n",
       "      <th>score</th>\n",
       "      <th>Open</th>\n",
       "      <th>High</th>\n",
       "      <th>Low</th>\n",
       "      <th>Close</th>\n",
       "      <th>Adj Close</th>\n",
       "      <th>Volume</th>\n",
       "    </tr>\n",
       "  </thead>\n",
       "  <tbody>\n",
       "    <tr>\n",
       "      <th>0</th>\n",
       "      <td>2022-06-01 23:59:03+00:00</td>\n",
       "      <td>1532149762392309761</td>\n",
       "      <td>@Chevron Don’t let gov tell you what to do as ...</td>\n",
       "      <td>RobertA15891551</td>\n",
       "      <td>3.0</td>\n",
       "      <td>[{'label': 'NEGATIVE', 'score': 0.992789328098...</td>\n",
       "      <td>NEGATIVE</td>\n",
       "      <td>0.992789</td>\n",
       "      <td>NaN</td>\n",
       "      <td>NaN</td>\n",
       "      <td>NaN</td>\n",
       "      <td>NaN</td>\n",
       "      <td>NaN</td>\n",
       "      <td>NaN</td>\n",
       "    </tr>\n",
       "    <tr>\n",
       "      <th>1</th>\n",
       "      <td>2022-06-01 23:44:08+00:00</td>\n",
       "      <td>1532146007219195904</td>\n",
       "      <td>@RepStefanik No they are the direct result of ...</td>\n",
       "      <td>keithlb</td>\n",
       "      <td>0.0</td>\n",
       "      <td>[{'label': 'NEGATIVE', 'score': 0.990190863609...</td>\n",
       "      <td>NEGATIVE</td>\n",
       "      <td>0.990191</td>\n",
       "      <td>NaN</td>\n",
       "      <td>NaN</td>\n",
       "      <td>NaN</td>\n",
       "      <td>NaN</td>\n",
       "      <td>NaN</td>\n",
       "      <td>NaN</td>\n",
       "    </tr>\n",
       "    <tr>\n",
       "      <th>2</th>\n",
       "      <td>2022-06-01 23:40:44+00:00</td>\n",
       "      <td>1532145150750867457</td>\n",
       "      <td>@Jim_Jordan Tell Exon, Shell, Texaco, Chevron,...</td>\n",
       "      <td>atxsouthside04</td>\n",
       "      <td>0.0</td>\n",
       "      <td>[{'label': 'NEGATIVE', 'score': 0.994984269142...</td>\n",
       "      <td>NEGATIVE</td>\n",
       "      <td>0.994984</td>\n",
       "      <td>NaN</td>\n",
       "      <td>NaN</td>\n",
       "      <td>NaN</td>\n",
       "      <td>NaN</td>\n",
       "      <td>NaN</td>\n",
       "      <td>NaN</td>\n",
       "    </tr>\n",
       "    <tr>\n",
       "      <th>3</th>\n",
       "      <td>2022-06-01 23:36:52+00:00</td>\n",
       "      <td>1532144177374408709</td>\n",
       "      <td>When Chevron's PAC is maxed out to you, don't ...</td>\n",
       "      <td>EvanMMinton</td>\n",
       "      <td>12.0</td>\n",
       "      <td>[{'label': 'NEGATIVE', 'score': 0.996644496917...</td>\n",
       "      <td>NEGATIVE</td>\n",
       "      <td>0.996644</td>\n",
       "      <td>NaN</td>\n",
       "      <td>NaN</td>\n",
       "      <td>NaN</td>\n",
       "      <td>NaN</td>\n",
       "      <td>NaN</td>\n",
       "      <td>NaN</td>\n",
       "    </tr>\n",
       "    <tr>\n",
       "      <th>4</th>\n",
       "      <td>2022-06-01 23:18:44+00:00</td>\n",
       "      <td>1532139614734934017</td>\n",
       "      <td>$BRK.A $BRK.B $BRK OIL GAS ENERGY BOOM \\nWhile...</td>\n",
       "      <td>Icon00007</td>\n",
       "      <td>0.0</td>\n",
       "      <td>[{'label': 'POSITIVE', 'score': 0.769509613513...</td>\n",
       "      <td>POSITIVE</td>\n",
       "      <td>0.769510</td>\n",
       "      <td>NaN</td>\n",
       "      <td>NaN</td>\n",
       "      <td>NaN</td>\n",
       "      <td>NaN</td>\n",
       "      <td>NaN</td>\n",
       "      <td>NaN</td>\n",
       "    </tr>\n",
       "  </tbody>\n",
       "</table>\n",
       "</div>"
      ],
      "text/plain": [
       "                        Date             Tweet ID  \\\n",
       "0  2022-06-01 23:59:03+00:00  1532149762392309761   \n",
       "1  2022-06-01 23:44:08+00:00  1532146007219195904   \n",
       "2  2022-06-01 23:40:44+00:00  1532145150750867457   \n",
       "3  2022-06-01 23:36:52+00:00  1532144177374408709   \n",
       "4  2022-06-01 23:18:44+00:00  1532139614734934017   \n",
       "\n",
       "                                                Text         Username  Likes  \\\n",
       "0  @Chevron Don’t let gov tell you what to do as ...  RobertA15891551    3.0   \n",
       "1  @RepStefanik No they are the direct result of ...          keithlb    0.0   \n",
       "2  @Jim_Jordan Tell Exon, Shell, Texaco, Chevron,...   atxsouthside04    0.0   \n",
       "3  When Chevron's PAC is maxed out to you, don't ...      EvanMMinton   12.0   \n",
       "4  $BRK.A $BRK.B $BRK OIL GAS ENERGY BOOM \\nWhile...        Icon00007    0.0   \n",
       "\n",
       "                                           sentiment     label     score  \\\n",
       "0  [{'label': 'NEGATIVE', 'score': 0.992789328098...  NEGATIVE  0.992789   \n",
       "1  [{'label': 'NEGATIVE', 'score': 0.990190863609...  NEGATIVE  0.990191   \n",
       "2  [{'label': 'NEGATIVE', 'score': 0.994984269142...  NEGATIVE  0.994984   \n",
       "3  [{'label': 'NEGATIVE', 'score': 0.996644496917...  NEGATIVE  0.996644   \n",
       "4  [{'label': 'POSITIVE', 'score': 0.769509613513...  POSITIVE  0.769510   \n",
       "\n",
       "   Open  High  Low  Close  Adj Close  Volume  \n",
       "0   NaN   NaN  NaN    NaN        NaN     NaN  \n",
       "1   NaN   NaN  NaN    NaN        NaN     NaN  \n",
       "2   NaN   NaN  NaN    NaN        NaN     NaN  \n",
       "3   NaN   NaN  NaN    NaN        NaN     NaN  \n",
       "4   NaN   NaN  NaN    NaN        NaN     NaN  "
      ]
     },
     "execution_count": 12,
     "metadata": {},
     "output_type": "execute_result"
    }
   ],
   "source": [
    "sentiment_classifier = pipeline('sentiment-analysis')\n",
    "\n",
    "combined_csv = (combined_csv.assign(sentiment = lambda x: x['Text'].apply(lambda s: sentiment_classifier(s)))\n",
    ".assign(\n",
    "label = lambda x: x['sentiment'].apply(lambda s: (s[0]['label'])),\n",
    "score = lambda x: x['sentiment'].apply(lambda s: (s[0]['score']))))\n",
    "combined_csv.head()"
   ]
  },
  {
   "cell_type": "code",
   "execution_count": 13,
   "metadata": {},
   "outputs": [],
   "source": [
    "combined_csv.to_csv(\"../data/sentiment_scored_chevron.csv\",encoding='utf-8', index=False)"
   ]
  },
  {
   "cell_type": "code",
   "execution_count": 18,
   "metadata": {},
   "outputs": [
    {
     "data": {
      "image/png": "[encoded data removed]",
      "text/plain": [
       "<Figure size 432x288 with 1 Axes>"
      ]
     },
     "metadata": {
      "needs_background": "light"
     },
     "output_type": "display_data"
    }
   ],
   "source": [
    "combined_csv[\"NumericalSentiment\"] = combined_csv['score'] * combined_csv['sentiment'].apply(lambda x: -1 if x == 'NEGATIVE' else 1)\n",
    "\n",
    "plt.hist(combined_csv['NumericalSentiment'], bins=10)\n",
    "plt.xlabel('Values')\n",
    "plt.ylabel('Frequency')\n",
    "plt.title('Histogram of New Column')\n",
    "plt.show()"
   ]
  },
  {
   "cell_type": "code",
   "execution_count": 22,
   "metadata": {},
   "outputs": [
    {
     "name": "stdout",
     "output_type": "stream",
     "text": [
      "0.5004849433898926\n",
      "0.9998607635498047\n"
     ]
    },
    {
     "data": {
      "text/plain": [
       "Date                   object\n",
       "Tweet ID               object\n",
       "Text                   object\n",
       "Username               object\n",
       "Likes                 float64\n",
       "sentiment              object\n",
       "label                  object\n",
       "score                 float64\n",
       "Open                  float64\n",
       "High                  float64\n",
       "Low                   float64\n",
       "Close                 float64\n",
       "Adj Close             float64\n",
       "Volume                float64\n",
       "NumericalSentiment    float64\n",
       "dtype: object"
      ]
     },
     "execution_count": 22,
     "metadata": {},
     "output_type": "execute_result"
    }
   ],
   "source": [
    "print(combined_csv['NumericalSentiment'].min())\n",
    "print(combined_csv['NumericalSentiment'].max())\n",
    "combined_csv.dtypes"
   ]
  },
  {
   "cell_type": "code",
   "execution_count": 23,
   "metadata": {},
   "outputs": [
    {
     "data": {
      "text/html": [
       "<div>\n",
       "<style scoped>\n",
       "    .dataframe tbody tr th:only-of-type {\n",
       "        vertical-align: middle;\n",
       "    }\n",
       "\n",
       "    .dataframe tbody tr th {\n",
       "        vertical-align: top;\n",
       "    }\n",
       "\n",
       "    .dataframe thead th {\n",
       "        text-align: right;\n",
       "    }\n",
       "</style>\n",
       "<table border=\"1\" class=\"dataframe\">\n",
       "  <thead>\n",
       "    <tr style=\"text-align: right;\">\n",
       "      <th></th>\n",
       "      <th>Date</th>\n",
       "      <th>Open</th>\n",
       "      <th>High</th>\n",
       "      <th>Low</th>\n",
       "      <th>Close</th>\n",
       "      <th>Adj Close</th>\n",
       "      <th>Volume</th>\n",
       "    </tr>\n",
       "  </thead>\n",
       "  <tbody>\n",
       "    <tr>\n",
       "      <th>0</th>\n",
       "      <td>2022-01-03</td>\n",
       "      <td>117.419998</td>\n",
       "      <td>119.690002</td>\n",
       "      <td>117.290001</td>\n",
       "      <td>119.260002</td>\n",
       "      <td>115.113411</td>\n",
       "      <td>10717700</td>\n",
       "    </tr>\n",
       "    <tr>\n",
       "      <th>1</th>\n",
       "      <td>2022-01-04</td>\n",
       "      <td>119.949997</td>\n",
       "      <td>121.980003</td>\n",
       "      <td>119.660004</td>\n",
       "      <td>121.430000</td>\n",
       "      <td>117.207954</td>\n",
       "      <td>16413100</td>\n",
       "    </tr>\n",
       "    <tr>\n",
       "      <th>2</th>\n",
       "      <td>2022-01-05</td>\n",
       "      <td>122.239998</td>\n",
       "      <td>123.839996</td>\n",
       "      <td>122.070000</td>\n",
       "      <td>122.220001</td>\n",
       "      <td>117.970497</td>\n",
       "      <td>15487100</td>\n",
       "    </tr>\n",
       "    <tr>\n",
       "      <th>3</th>\n",
       "      <td>2022-01-06</td>\n",
       "      <td>123.620003</td>\n",
       "      <td>124.320000</td>\n",
       "      <td>121.639999</td>\n",
       "      <td>123.260002</td>\n",
       "      <td>118.974327</td>\n",
       "      <td>13318500</td>\n",
       "    </tr>\n",
       "    <tr>\n",
       "      <th>4</th>\n",
       "      <td>2022-01-07</td>\n",
       "      <td>123.550003</td>\n",
       "      <td>125.540001</td>\n",
       "      <td>122.949997</td>\n",
       "      <td>125.029999</td>\n",
       "      <td>120.682785</td>\n",
       "      <td>14164600</td>\n",
       "    </tr>\n",
       "  </tbody>\n",
       "</table>\n",
       "</div>"
      ],
      "text/plain": [
       "         Date        Open        High         Low       Close   Adj Close  \\\n",
       "0  2022-01-03  117.419998  119.690002  117.290001  119.260002  115.113411   \n",
       "1  2022-01-04  119.949997  121.980003  119.660004  121.430000  117.207954   \n",
       "2  2022-01-05  122.239998  123.839996  122.070000  122.220001  117.970497   \n",
       "3  2022-01-06  123.620003  124.320000  121.639999  123.260002  118.974327   \n",
       "4  2022-01-07  123.550003  125.540001  122.949997  125.029999  120.682785   \n",
       "\n",
       "     Volume  \n",
       "0  10717700  \n",
       "1  16413100  \n",
       "2  15487100  \n",
       "3  13318500  \n",
       "4  14164600  "
      ]
     },
     "execution_count": 23,
     "metadata": {},
     "output_type": "execute_result"
    }
   ],
   "source": [
    "df = pd.read_csv(\"CVX.csv\")\n",
    "df.head()"
   ]
  },
  {
   "cell_type": "code",
   "execution_count": 25,
   "metadata": {},
   "outputs": [
    {
     "name": "stderr",
     "output_type": "stream",
     "text": [
      "/Library/Frameworks/Python.framework/Versions/3.10/lib/python3.10/site-packages/pandas/core/arraylike.py:405: RuntimeWarning: invalid value encountered in log\n",
      "  result = getattr(ufunc, method)(*inputs, **kwargs)\n"
     ]
    },
    {
     "data": {
      "text/html": [
       "<div>\n",
       "<style scoped>\n",
       "    .dataframe tbody tr th:only-of-type {\n",
       "        vertical-align: middle;\n",
       "    }\n",
       "\n",
       "    .dataframe tbody tr th {\n",
       "        vertical-align: top;\n",
       "    }\n",
       "\n",
       "    .dataframe thead th {\n",
       "        text-align: right;\n",
       "    }\n",
       "</style>\n",
       "<table border=\"1\" class=\"dataframe\">\n",
       "  <thead>\n",
       "    <tr style=\"text-align: right;\">\n",
       "      <th></th>\n",
       "      <th>Date</th>\n",
       "      <th>Open</th>\n",
       "      <th>High</th>\n",
       "      <th>Low</th>\n",
       "      <th>Close</th>\n",
       "      <th>Adj Close</th>\n",
       "      <th>Volume</th>\n",
       "      <th>return</th>\n",
       "    </tr>\n",
       "  </thead>\n",
       "  <tbody>\n",
       "    <tr>\n",
       "      <th>0</th>\n",
       "      <td>2022-01-03</td>\n",
       "      <td>117.419998</td>\n",
       "      <td>119.690002</td>\n",
       "      <td>117.290001</td>\n",
       "      <td>119.260002</td>\n",
       "      <td>115.113411</td>\n",
       "      <td>10717700</td>\n",
       "      <td>NaN</td>\n",
       "    </tr>\n",
       "    <tr>\n",
       "      <th>1</th>\n",
       "      <td>2022-01-04</td>\n",
       "      <td>119.949997</td>\n",
       "      <td>121.980003</td>\n",
       "      <td>119.660004</td>\n",
       "      <td>121.430000</td>\n",
       "      <td>117.207954</td>\n",
       "      <td>16413100</td>\n",
       "      <td>0.018032</td>\n",
       "    </tr>\n",
       "    <tr>\n",
       "      <th>2</th>\n",
       "      <td>2022-01-05</td>\n",
       "      <td>122.239998</td>\n",
       "      <td>123.839996</td>\n",
       "      <td>122.070000</td>\n",
       "      <td>122.220001</td>\n",
       "      <td>117.970497</td>\n",
       "      <td>15487100</td>\n",
       "      <td>0.006485</td>\n",
       "    </tr>\n",
       "    <tr>\n",
       "      <th>3</th>\n",
       "      <td>2022-01-06</td>\n",
       "      <td>123.620003</td>\n",
       "      <td>124.320000</td>\n",
       "      <td>121.639999</td>\n",
       "      <td>123.260002</td>\n",
       "      <td>118.974327</td>\n",
       "      <td>13318500</td>\n",
       "      <td>0.008473</td>\n",
       "    </tr>\n",
       "    <tr>\n",
       "      <th>4</th>\n",
       "      <td>2022-01-07</td>\n",
       "      <td>123.550003</td>\n",
       "      <td>125.540001</td>\n",
       "      <td>122.949997</td>\n",
       "      <td>125.029999</td>\n",
       "      <td>120.682785</td>\n",
       "      <td>14164600</td>\n",
       "      <td>0.014258</td>\n",
       "    </tr>\n",
       "  </tbody>\n",
       "</table>\n",
       "</div>"
      ],
      "text/plain": [
       "         Date        Open        High         Low       Close   Adj Close  \\\n",
       "0  2022-01-03  117.419998  119.690002  117.290001  119.260002  115.113411   \n",
       "1  2022-01-04  119.949997  121.980003  119.660004  121.430000  117.207954   \n",
       "2  2022-01-05  122.239998  123.839996  122.070000  122.220001  117.970497   \n",
       "3  2022-01-06  123.620003  124.320000  121.639999  123.260002  118.974327   \n",
       "4  2022-01-07  123.550003  125.540001  122.949997  125.029999  120.682785   \n",
       "\n",
       "     Volume    return  \n",
       "0  10717700       NaN  \n",
       "1  16413100  0.018032  \n",
       "2  15487100  0.006485  \n",
       "3  13318500  0.008473  \n",
       "4  14164600  0.014258  "
      ]
     },
     "execution_count": 25,
     "metadata": {},
     "output_type": "execute_result"
    }
   ],
   "source": [
    "df['return'] = np.log(df['Close']) - np.log(df['Close'].shift(1))\n",
    "df.head()"
   ]
  },
  {
   "cell_type": "code",
   "execution_count": 34,
   "metadata": {},
   "outputs": [
    {
     "data": {
      "image/png": "[encoded data removed]",
      "text/plain": [
       "<Figure size 720x360 with 1 Axes>"
      ]
     },
     "metadata": {
      "needs_background": "light"
     },
     "output_type": "display_data"
    }
   ],
   "source": [
    "x = df['Date']\n",
    "y = df['return']\n",
    "\n",
    "fig, ax = plt.subplots(figsize=(10,5)) \n",
    "ax.plot(x, y, label='return')  \n",
    "ax.set_xlabel('Date')  \n",
    "ax.set_ylabel('Price')  \n",
    "ax.set_title('2022 CVX Return Rate')  \n",
    "ax.legend();  \n",
    "plt.savefig('../figures/fig3.pdf')"
   ]
  },
  {
   "cell_type": "code",
   "execution_count": null,
   "metadata": {},
   "outputs": [],
   "source": []
  }
 ],
 "metadata": {
  "kernelspec": {
   "display_name": "Python 3",
   "language": "python",
   "name": "python3"
  },
  "language_info": {
   "codemirror_mode": {
    "name": "ipython",
    "version": 3
   },
   "file_extension": ".py",
   "mimetype": "text/x-python",
   "name": "python",
   "nbconvert_exporter": "python",
   "pygments_lexer": "ipython3",
   "version": "3.10.0"
  },
  "orig_nbformat": 4,
  "vscode": {
   "interpreter": {
    "hash": "aee8b7b246df8f9039afb4144a1f6fd8d2ca17a180786b69acc140d282b71a49"
   }
  }
 },
 "nbformat": 4,
 "nbformat_minor": 2
}
