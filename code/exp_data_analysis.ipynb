{
 "cells": [
  {
   "cell_type": "code",
   "execution_count": 1,
   "metadata": {},
   "outputs": [
    {
     "name": "stderr",
     "output_type": "stream",
     "text": [
      "/Library/Frameworks/Python.framework/Versions/3.10/lib/python3.10/site-packages/tqdm/auto.py:22: TqdmWarning: IProgress not found. Please update jupyter and ipywidgets. See https://ipywidgets.readthedocs.io/en/stable/user_install.html\n",
      "  from .autonotebook import tqdm as notebook_tqdm\n",
      "2022-11-15 01:19:03.481919: I tensorflow/core/platform/cpu_feature_guard.cc:193] This TensorFlow binary is optimized with oneAPI Deep Neural Network Library (oneDNN) to use the following CPU instructions in performance-critical operations:  AVX2 AVX512F AVX512_VNNI FMA\n",
      "To enable them in other operations, rebuild TensorFlow with the appropriate compiler flags.\n"
     ]
    }
   ],
   "source": [
    "import pandas as pd\n",
    "from transformers import pipeline"
   ]
  },
  {
   "cell_type": "code",
   "execution_count": 12,
   "metadata": {},
   "outputs": [
    {
     "name": "stdout",
     "output_type": "stream",
     "text": [
      "1\n",
      "2\n",
      "3\n",
      "4\n",
      "5\n",
      "6\n",
      "7\n",
      "8\n",
      "9\n",
      "10\n",
      "11\n",
      "12\n"
     ]
    }
   ],
   "source": [
    "lis = range(1,13)\n",
    "for i in lis:\n",
    "    print(i)"
   ]
  },
  {
   "cell_type": "code",
   "execution_count": 2,
   "metadata": {},
   "outputs": [
    {
     "name": "stdout",
     "output_type": "stream",
     "text": [
      "(1825, 4)\n",
      "Index(['Date', 'Tweet ID', 'Text', 'Username'], dtype='object')\n"
     ]
    }
   ],
   "source": [
    "maindf = pd.read_csv(\"Chevron2021.csv\")\n",
    "#maindf = maindf.iloc[: , 1:]\n",
    "print(maindf.shape)\n",
    "print(maindf.columns)\n",
    "\n"
   ]
  },
  {
   "cell_type": "code",
   "execution_count": 3,
   "metadata": {},
   "outputs": [
    {
     "name": "stderr",
     "output_type": "stream",
     "text": [
      "No model was supplied, defaulted to distilbert-base-uncased-finetuned-sst-2-english and revision af0f99b (https://huggingface.co/distilbert-base-uncased-finetuned-sst-2-english).\n",
      "Using a pipeline without specifying a model name and revision in production is not recommended.\n",
      "2022-11-15 01:23:35.876145: I tensorflow/core/platform/cpu_feature_guard.cc:193] This TensorFlow binary is optimized with oneAPI Deep Neural Network Library (oneDNN) to use the following CPU instructions in performance-critical operations:  AVX2 AVX512F AVX512_VNNI FMA\n",
      "To enable them in other operations, rebuild TensorFlow with the appropriate compiler flags.\n",
      "All model checkpoint layers were used when initializing TFDistilBertForSequenceClassification.\n",
      "\n",
      "All the layers of TFDistilBertForSequenceClassification were initialized from the model checkpoint at distilbert-base-uncased-finetuned-sst-2-english.\n",
      "If your task is similar to the task the model of the checkpoint was trained on, you can already use TFDistilBertForSequenceClassification for predictions without further training.\n"
     ]
    },
    {
     "data": {
      "text/html": [
       "<div>\n",
       "<style scoped>\n",
       "    .dataframe tbody tr th:only-of-type {\n",
       "        vertical-align: middle;\n",
       "    }\n",
       "\n",
       "    .dataframe tbody tr th {\n",
       "        vertical-align: top;\n",
       "    }\n",
       "\n",
       "    .dataframe thead th {\n",
       "        text-align: right;\n",
       "    }\n",
       "</style>\n",
       "<table border=\"1\" class=\"dataframe\">\n",
       "  <thead>\n",
       "    <tr style=\"text-align: right;\">\n",
       "      <th></th>\n",
       "      <th>Date</th>\n",
       "      <th>Tweet ID</th>\n",
       "      <th>Text</th>\n",
       "      <th>Username</th>\n",
       "      <th>sentiment</th>\n",
       "      <th>label</th>\n",
       "      <th>score</th>\n",
       "    </tr>\n",
       "  </thead>\n",
       "  <tbody>\n",
       "    <tr>\n",
       "      <th>0</th>\n",
       "      <td>2021-04-01 23:30:55+00:00</td>\n",
       "      <td>1377765449077829646</td>\n",
       "      <td>@ltgrusselhonore @Baton @bp @exxonmobil @Chevr...</td>\n",
       "      <td>Fess1970</td>\n",
       "      <td>[{'label': 'NEGATIVE', 'score': 0.961742639541...</td>\n",
       "      <td>NEGATIVE</td>\n",
       "      <td>0.961743</td>\n",
       "    </tr>\n",
       "    <tr>\n",
       "      <th>1</th>\n",
       "      <td>2021-04-01 23:18:56+00:00</td>\n",
       "      <td>1377762433461231617</td>\n",
       "      <td>if we lived in a just and honorable world ever...</td>\n",
       "      <td>buhbuhballin</td>\n",
       "      <td>[{'label': 'NEGATIVE', 'score': 0.945913970470...</td>\n",
       "      <td>NEGATIVE</td>\n",
       "      <td>0.945914</td>\n",
       "    </tr>\n",
       "    <tr>\n",
       "      <th>2</th>\n",
       "      <td>2021-04-01 22:40:02+00:00</td>\n",
       "      <td>1377752643876098053</td>\n",
       "      <td>Committing to zero routine flaring by 2025 wil...</td>\n",
       "      <td>EDFEnergyEX</td>\n",
       "      <td>[{'label': 'NEGATIVE', 'score': 0.999148964881...</td>\n",
       "      <td>NEGATIVE</td>\n",
       "      <td>0.999149</td>\n",
       "    </tr>\n",
       "    <tr>\n",
       "      <th>3</th>\n",
       "      <td>2021-04-01 22:12:22+00:00</td>\n",
       "      <td>1377745681134198789</td>\n",
       "      <td>Does Chevron spend 98% of its worth on dirty o...</td>\n",
       "      <td>jenkrill</td>\n",
       "      <td>[{'label': 'NEGATIVE', 'score': 0.995059728622...</td>\n",
       "      <td>NEGATIVE</td>\n",
       "      <td>0.995060</td>\n",
       "    </tr>\n",
       "    <tr>\n",
       "      <th>4</th>\n",
       "      <td>2021-04-01 22:00:21+00:00</td>\n",
       "      <td>1377742656160284677</td>\n",
       "      <td>@SDonziger @DavidYankovich Is Chevron the Russ...</td>\n",
       "      <td>Jackie1Connolly</td>\n",
       "      <td>[{'label': 'NEGATIVE', 'score': 0.996746778488...</td>\n",
       "      <td>NEGATIVE</td>\n",
       "      <td>0.996747</td>\n",
       "    </tr>\n",
       "  </tbody>\n",
       "</table>\n",
       "</div>"
      ],
      "text/plain": [
       "                        Date             Tweet ID  \\\n",
       "0  2021-04-01 23:30:55+00:00  1377765449077829646   \n",
       "1  2021-04-01 23:18:56+00:00  1377762433461231617   \n",
       "2  2021-04-01 22:40:02+00:00  1377752643876098053   \n",
       "3  2021-04-01 22:12:22+00:00  1377745681134198789   \n",
       "4  2021-04-01 22:00:21+00:00  1377742656160284677   \n",
       "\n",
       "                                                Text         Username  \\\n",
       "0  @ltgrusselhonore @Baton @bp @exxonmobil @Chevr...         Fess1970   \n",
       "1  if we lived in a just and honorable world ever...     buhbuhballin   \n",
       "2  Committing to zero routine flaring by 2025 wil...      EDFEnergyEX   \n",
       "3  Does Chevron spend 98% of its worth on dirty o...         jenkrill   \n",
       "4  @SDonziger @DavidYankovich Is Chevron the Russ...  Jackie1Connolly   \n",
       "\n",
       "                                           sentiment     label     score  \n",
       "0  [{'label': 'NEGATIVE', 'score': 0.961742639541...  NEGATIVE  0.961743  \n",
       "1  [{'label': 'NEGATIVE', 'score': 0.945913970470...  NEGATIVE  0.945914  \n",
       "2  [{'label': 'NEGATIVE', 'score': 0.999148964881...  NEGATIVE  0.999149  \n",
       "3  [{'label': 'NEGATIVE', 'score': 0.995059728622...  NEGATIVE  0.995060  \n",
       "4  [{'label': 'NEGATIVE', 'score': 0.996746778488...  NEGATIVE  0.996747  "
      ]
     },
     "execution_count": 3,
     "metadata": {},
     "output_type": "execute_result"
    }
   ],
   "source": [
    "sentiment_classifier = pipeline('sentiment-analysis')\n",
    "\n",
    "maindf = (maindf.assign(sentiment = lambda x: x['Text'].apply(lambda s: sentiment_classifier(s)))\n",
    ".assign(\n",
    "label = lambda x: x['sentiment'].apply(lambda s: (s[0]['label'])),\n",
    "score = lambda x: x['sentiment'].apply(lambda s: (s[0]['score']))))\n",
    "maindf.head()"
   ]
  },
  {
   "cell_type": "code",
   "execution_count": 4,
   "metadata": {},
   "outputs": [],
   "source": [
    "#Save for later\n",
    "maindf.to_csv(\"sentiment_scored_chevron.csv\",encoding='utf-8', index=False)"
   ]
  },
  {
   "cell_type": "code",
   "execution_count": 7,
   "metadata": {},
   "outputs": [
    {
     "data": {
      "text/plain": [
       "count         1825\n",
       "unique           2\n",
       "top       NEGATIVE\n",
       "freq          1496\n",
       "Name: label, dtype: object"
      ]
     },
     "execution_count": 7,
     "metadata": {},
     "output_type": "execute_result"
    }
   ],
   "source": [
    "maindf['label'].describe()"
   ]
  }
 ],
 "metadata": {
  "kernelspec": {
   "display_name": "Python 3.10.0 64-bit",
   "language": "python",
   "name": "python3"
  },
  "language_info": {
   "codemirror_mode": {
    "name": "ipython",
    "version": 3
   },
   "file_extension": ".py",
   "mimetype": "text/x-python",
   "name": "python",
   "nbconvert_exporter": "python",
   "pygments_lexer": "ipython3",
   "version": "3.10.0"
  },
  "orig_nbformat": 4,
  "vscode": {
   "interpreter": {
    "hash": "aee8b7b246df8f9039afb4144a1f6fd8d2ca17a180786b69acc140d282b71a49"
   }
  }
 },
 "nbformat": 4,
 "nbformat_minor": 2
}
