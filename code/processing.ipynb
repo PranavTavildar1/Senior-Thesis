{
 "cells": [
  {
   "cell_type": "code",
   "execution_count": 11,
   "metadata": {},
   "outputs": [],
   "source": [
    "import pandas as pd\n",
    "from transformers import pipeline"
   ]
  },
  {
   "cell_type": "code",
   "execution_count": 2,
   "metadata": {},
   "outputs": [
    {
     "name": "stdout",
     "output_type": "stream",
     "text": [
      "(1825, 4)\n",
      "Index(['Date', 'Tweet ID', 'Text', 'Username'], dtype='object')\n"
     ]
    }
   ],
   "source": [
    "maindf = pd.read_csv(\"../data/Chevron2021.csv\")\n",
    "#maindf = maindf.iloc[: , 1:]\n",
    "print(maindf.shape)\n",
    "print(maindf.columns)"
   ]
  },
  {
   "cell_type": "code",
   "execution_count": 3,
   "metadata": {},
   "outputs": [
    {
     "name": "stderr",
     "output_type": "stream",
     "text": [
      "No model was supplied, defaulted to distilbert-base-uncased-finetuned-sst-2-english and revision af0f99b (https://huggingface.co/distilbert-base-uncased-finetuned-sst-2-english).\n",
      "Using a pipeline without specifying a model name and revision in production is not recommended.\n",
      "2022-11-15 01:23:35.876145: I tensorflow/core/platform/cpu_feature_guard.cc:193] This TensorFlow binary is optimized with oneAPI Deep Neural Network Library (oneDNN) to use the following CPU instructions in performance-critical operations:  AVX2 AVX512F AVX512_VNNI FMA\n",
      "To enable them in other operations, rebuild TensorFlow with the appropriate compiler flags.\n",
      "All model checkpoint layers were used when initializing TFDistilBertForSequenceClassification.\n",
      "\n",
      "All the layers of TFDistilBertForSequenceClassification were initialized from the model checkpoint at distilbert-base-uncased-finetuned-sst-2-english.\n",
      "If your task is similar to the task the model of the checkpoint was trained on, you can already use TFDistilBertForSequenceClassification for predictions without further training.\n"
     ]
    },
    {
     "data": {
      "text/html": [
       "<div>\n",
       "<style scoped>\n",
       "    .dataframe tbody tr th:only-of-type {\n",
       "        vertical-align: middle;\n",
       "    }\n",
       "\n",
       "    .dataframe tbody tr th {\n",
       "        vertical-align: top;\n",
       "    }\n",
       "\n",
       "    .dataframe thead th {\n",
       "        text-align: right;\n",
       "    }\n",
       "</style>\n",
       "<table border=\"1\" class=\"dataframe\">\n",
       "  <thead>\n",
       "    <tr style=\"text-align: right;\">\n",
       "      <th></th>\n",
       "      <th>Date</th>\n",
       "      <th>Tweet ID</th>\n",
       "      <th>Text</th>\n",
       "      <th>Username</th>\n",
       "      <th>sentiment</th>\n",
       "      <th>label</th>\n",
       "      <th>score</th>\n",
       "    </tr>\n",
       "  </thead>\n",
       "  <tbody>\n",
       "    <tr>\n",
       "      <th>0</th>\n",
       "      <td>2021-04-01 23:30:55+00:00</td>\n",
       "      <td>1377765449077829646</td>\n",
       "      <td>@ltgrusselhonore @Baton @bp @exxonmobil @Chevr...</td>\n",
       "      <td>Fess1970</td>\n",
       "      <td>[{'label': 'NEGATIVE', 'score': 0.961742639541...</td>\n",
       "      <td>NEGATIVE</td>\n",
       "      <td>0.961743</td>\n",
       "    </tr>\n",
       "    <tr>\n",
       "      <th>1</th>\n",
       "      <td>2021-04-01 23:18:56+00:00</td>\n",
       "      <td>1377762433461231617</td>\n",
       "      <td>if we lived in a just and honorable world ever...</td>\n",
       "      <td>buhbuhballin</td>\n",
       "      <td>[{'label': 'NEGATIVE', 'score': 0.945913970470...</td>\n",
       "      <td>NEGATIVE</td>\n",
       "      <td>0.945914</td>\n",
       "    </tr>\n",
       "    <tr>\n",
       "      <th>2</th>\n",
       "      <td>2021-04-01 22:40:02+00:00</td>\n",
       "      <td>1377752643876098053</td>\n",
       "      <td>Committing to zero routine flaring by 2025 wil...</td>\n",
       "      <td>EDFEnergyEX</td>\n",
       "      <td>[{'label': 'NEGATIVE', 'score': 0.999148964881...</td>\n",
       "      <td>NEGATIVE</td>\n",
       "      <td>0.999149</td>\n",
       "    </tr>\n",
       "    <tr>\n",
       "      <th>3</th>\n",
       "      <td>2021-04-01 22:12:22+00:00</td>\n",
       "      <td>1377745681134198789</td>\n",
       "      <td>Does Chevron spend 98% of its worth on dirty o...</td>\n",
       "      <td>jenkrill</td>\n",
       "      <td>[{'label': 'NEGATIVE', 'score': 0.995059728622...</td>\n",
       "      <td>NEGATIVE</td>\n",
       "      <td>0.995060</td>\n",
       "    </tr>\n",
       "    <tr>\n",
       "      <th>4</th>\n",
       "      <td>2021-04-01 22:00:21+00:00</td>\n",
       "      <td>1377742656160284677</td>\n",
       "      <td>@SDonziger @DavidYankovich Is Chevron the Russ...</td>\n",
       "      <td>Jackie1Connolly</td>\n",
       "      <td>[{'label': 'NEGATIVE', 'score': 0.996746778488...</td>\n",
       "      <td>NEGATIVE</td>\n",
       "      <td>0.996747</td>\n",
       "    </tr>\n",
       "  </tbody>\n",
       "</table>\n",
       "</div>"
      ],
      "text/plain": [
       "                        Date             Tweet ID  \\\n",
       "0  2021-04-01 23:30:55+00:00  1377765449077829646   \n",
       "1  2021-04-01 23:18:56+00:00  1377762433461231617   \n",
       "2  2021-04-01 22:40:02+00:00  1377752643876098053   \n",
       "3  2021-04-01 22:12:22+00:00  1377745681134198789   \n",
       "4  2021-04-01 22:00:21+00:00  1377742656160284677   \n",
       "\n",
       "                                                Text         Username  \\\n",
       "0  @ltgrusselhonore @Baton @bp @exxonmobil @Chevr...         Fess1970   \n",
       "1  if we lived in a just and honorable world ever...     buhbuhballin   \n",
       "2  Committing to zero routine flaring by 2025 wil...      EDFEnergyEX   \n",
       "3  Does Chevron spend 98% of its worth on dirty o...         jenkrill   \n",
       "4  @SDonziger @DavidYankovich Is Chevron the Russ...  Jackie1Connolly   \n",
       "\n",
       "                                           sentiment     label     score  \n",
       "0  [{'label': 'NEGATIVE', 'score': 0.961742639541...  NEGATIVE  0.961743  \n",
       "1  [{'label': 'NEGATIVE', 'score': 0.945913970470...  NEGATIVE  0.945914  \n",
       "2  [{'label': 'NEGATIVE', 'score': 0.999148964881...  NEGATIVE  0.999149  \n",
       "3  [{'label': 'NEGATIVE', 'score': 0.995059728622...  NEGATIVE  0.995060  \n",
       "4  [{'label': 'NEGATIVE', 'score': 0.996746778488...  NEGATIVE  0.996747  "
      ]
     },
     "execution_count": 3,
     "metadata": {},
     "output_type": "execute_result"
    }
   ],
   "source": [
    "sentiment_classifier = pipeline('sentiment-analysis')\n",
    "\n",
    "maindf = (maindf.assign(sentiment = lambda x: x['Text'].apply(lambda s: sentiment_classifier(s)))\n",
    ".assign(\n",
    "label = lambda x: x['sentiment'].apply(lambda s: (s[0]['label'])),\n",
    "score = lambda x: x['sentiment'].apply(lambda s: (s[0]['score']))))\n",
    "maindf.head()"
   ]
  },
  {
   "cell_type": "code",
   "execution_count": 4,
   "metadata": {},
   "outputs": [],
   "source": [
    "#Save for later\n",
    "maindf.to_csv(\"../data/sentiment_scored_chevron.csv\",encoding='utf-8', index=False)"
   ]
  },
  {
   "cell_type": "code",
   "execution_count": 7,
   "metadata": {},
   "outputs": [
    {
     "data": {
      "text/plain": [
       "count         1825\n",
       "unique           2\n",
       "top       NEGATIVE\n",
       "freq          1496\n",
       "Name: label, dtype: object"
      ]
     },
     "execution_count": 7,
     "metadata": {},
     "output_type": "execute_result"
    }
   ],
   "source": [
    "maindf['label'].describe()"
   ]
  },
  {
   "cell_type": "code",
   "execution_count": 12,
   "metadata": {},
   "outputs": [],
   "source": [
    "###Loading the files(Picking up where left off)\n",
    "maindf = pd.read_csv(\"../data/sentiment_scored_chevron.csv\")\n",
    "stock_df = pd.read_csv(\"../data/ChevronStock2021.csv\")\n",
    "\n",
    "###Changing the formatting of the Date for main_df\n",
    "maindf[\"Date\"] = maindf[\"Date\"].map(lambda x : x[0:10])\n",
    "merged_df = pd.merge(maindf, stock_df, on = \"Date\")"
   ]
  },
  {
   "cell_type": "code",
   "execution_count": 13,
   "metadata": {},
   "outputs": [
    {
     "data": {
      "text/html": [
       "<div>\n",
       "<style scoped>\n",
       "    .dataframe tbody tr th:only-of-type {\n",
       "        vertical-align: middle;\n",
       "    }\n",
       "\n",
       "    .dataframe tbody tr th {\n",
       "        vertical-align: top;\n",
       "    }\n",
       "\n",
       "    .dataframe thead th {\n",
       "        text-align: right;\n",
       "    }\n",
       "</style>\n",
       "<table border=\"1\" class=\"dataframe\">\n",
       "  <thead>\n",
       "    <tr style=\"text-align: right;\">\n",
       "      <th></th>\n",
       "      <th>Date</th>\n",
       "      <th>Tweet ID</th>\n",
       "      <th>Text</th>\n",
       "      <th>Username</th>\n",
       "      <th>sentiment</th>\n",
       "      <th>label</th>\n",
       "      <th>score</th>\n",
       "      <th>Open</th>\n",
       "      <th>High</th>\n",
       "      <th>Low</th>\n",
       "      <th>Close</th>\n",
       "      <th>Adj Close</th>\n",
       "      <th>Volume</th>\n",
       "    </tr>\n",
       "  </thead>\n",
       "  <tbody>\n",
       "    <tr>\n",
       "      <th>0</th>\n",
       "      <td>2021-04-01</td>\n",
       "      <td>1377765449077829646</td>\n",
       "      <td>@ltgrusselhonore @Baton @bp @exxonmobil @Chevr...</td>\n",
       "      <td>Fess1970</td>\n",
       "      <td>[{'label': 'NEGATIVE', 'score': 0.961742639541...</td>\n",
       "      <td>NEGATIVE</td>\n",
       "      <td>0.961743</td>\n",
       "      <td>105.260002</td>\n",
       "      <td>105.860001</td>\n",
       "      <td>104.209999</td>\n",
       "      <td>105.75</td>\n",
       "      <td>99.121391</td>\n",
       "      <td>8515800</td>\n",
       "    </tr>\n",
       "    <tr>\n",
       "      <th>1</th>\n",
       "      <td>2021-04-01</td>\n",
       "      <td>1377762433461231617</td>\n",
       "      <td>if we lived in a just and honorable world ever...</td>\n",
       "      <td>buhbuhballin</td>\n",
       "      <td>[{'label': 'NEGATIVE', 'score': 0.945913970470...</td>\n",
       "      <td>NEGATIVE</td>\n",
       "      <td>0.945914</td>\n",
       "      <td>105.260002</td>\n",
       "      <td>105.860001</td>\n",
       "      <td>104.209999</td>\n",
       "      <td>105.75</td>\n",
       "      <td>99.121391</td>\n",
       "      <td>8515800</td>\n",
       "    </tr>\n",
       "    <tr>\n",
       "      <th>2</th>\n",
       "      <td>2021-04-01</td>\n",
       "      <td>1377752643876098053</td>\n",
       "      <td>Committing to zero routine flaring by 2025 wil...</td>\n",
       "      <td>EDFEnergyEX</td>\n",
       "      <td>[{'label': 'NEGATIVE', 'score': 0.999148964881...</td>\n",
       "      <td>NEGATIVE</td>\n",
       "      <td>0.999149</td>\n",
       "      <td>105.260002</td>\n",
       "      <td>105.860001</td>\n",
       "      <td>104.209999</td>\n",
       "      <td>105.75</td>\n",
       "      <td>99.121391</td>\n",
       "      <td>8515800</td>\n",
       "    </tr>\n",
       "    <tr>\n",
       "      <th>3</th>\n",
       "      <td>2021-04-01</td>\n",
       "      <td>1377745681134198789</td>\n",
       "      <td>Does Chevron spend 98% of its worth on dirty o...</td>\n",
       "      <td>jenkrill</td>\n",
       "      <td>[{'label': 'NEGATIVE', 'score': 0.995059728622...</td>\n",
       "      <td>NEGATIVE</td>\n",
       "      <td>0.995060</td>\n",
       "      <td>105.260002</td>\n",
       "      <td>105.860001</td>\n",
       "      <td>104.209999</td>\n",
       "      <td>105.75</td>\n",
       "      <td>99.121391</td>\n",
       "      <td>8515800</td>\n",
       "    </tr>\n",
       "    <tr>\n",
       "      <th>4</th>\n",
       "      <td>2021-04-01</td>\n",
       "      <td>1377742656160284677</td>\n",
       "      <td>@SDonziger @DavidYankovich Is Chevron the Russ...</td>\n",
       "      <td>Jackie1Connolly</td>\n",
       "      <td>[{'label': 'NEGATIVE', 'score': 0.996746778488...</td>\n",
       "      <td>NEGATIVE</td>\n",
       "      <td>0.996747</td>\n",
       "      <td>105.260002</td>\n",
       "      <td>105.860001</td>\n",
       "      <td>104.209999</td>\n",
       "      <td>105.75</td>\n",
       "      <td>99.121391</td>\n",
       "      <td>8515800</td>\n",
       "    </tr>\n",
       "  </tbody>\n",
       "</table>\n",
       "</div>"
      ],
      "text/plain": [
       "         Date             Tweet ID  \\\n",
       "0  2021-04-01  1377765449077829646   \n",
       "1  2021-04-01  1377762433461231617   \n",
       "2  2021-04-01  1377752643876098053   \n",
       "3  2021-04-01  1377745681134198789   \n",
       "4  2021-04-01  1377742656160284677   \n",
       "\n",
       "                                                Text         Username  \\\n",
       "0  @ltgrusselhonore @Baton @bp @exxonmobil @Chevr...         Fess1970   \n",
       "1  if we lived in a just and honorable world ever...     buhbuhballin   \n",
       "2  Committing to zero routine flaring by 2025 wil...      EDFEnergyEX   \n",
       "3  Does Chevron spend 98% of its worth on dirty o...         jenkrill   \n",
       "4  @SDonziger @DavidYankovich Is Chevron the Russ...  Jackie1Connolly   \n",
       "\n",
       "                                           sentiment     label     score  \\\n",
       "0  [{'label': 'NEGATIVE', 'score': 0.961742639541...  NEGATIVE  0.961743   \n",
       "1  [{'label': 'NEGATIVE', 'score': 0.945913970470...  NEGATIVE  0.945914   \n",
       "2  [{'label': 'NEGATIVE', 'score': 0.999148964881...  NEGATIVE  0.999149   \n",
       "3  [{'label': 'NEGATIVE', 'score': 0.995059728622...  NEGATIVE  0.995060   \n",
       "4  [{'label': 'NEGATIVE', 'score': 0.996746778488...  NEGATIVE  0.996747   \n",
       "\n",
       "         Open        High         Low   Close  Adj Close   Volume  \n",
       "0  105.260002  105.860001  104.209999  105.75  99.121391  8515800  \n",
       "1  105.260002  105.860001  104.209999  105.75  99.121391  8515800  \n",
       "2  105.260002  105.860001  104.209999  105.75  99.121391  8515800  \n",
       "3  105.260002  105.860001  104.209999  105.75  99.121391  8515800  \n",
       "4  105.260002  105.860001  104.209999  105.75  99.121391  8515800  "
      ]
     },
     "execution_count": 13,
     "metadata": {},
     "output_type": "execute_result"
    }
   ],
   "source": [
    "merged_df.head()"
   ]
  },
  {
   "cell_type": "code",
   "execution_count": 14,
   "metadata": {},
   "outputs": [
    {
     "data": {
      "text/plain": [
       "Date         0\n",
       "Tweet ID     0\n",
       "Text         0\n",
       "Username     0\n",
       "sentiment    0\n",
       "label        0\n",
       "score        0\n",
       "Open         0\n",
       "High         0\n",
       "Low          0\n",
       "Close        0\n",
       "Adj Close    0\n",
       "Volume       0\n",
       "dtype: int64"
      ]
     },
     "execution_count": 14,
     "metadata": {},
     "output_type": "execute_result"
    }
   ],
   "source": [
    "merged_df.isna().sum()"
   ]
  },
  {
   "cell_type": "code",
   "execution_count": 16,
   "metadata": {},
   "outputs": [
    {
     "data": {
      "image/png": "[encoded data removed]",
      "text/plain": [
       "<Figure size 432x288 with 1 Axes>"
      ]
     },
     "metadata": {
      "needs_background": "light"
     },
     "output_type": "display_data"
    }
   ],
   "source": [
    "merged_df.plot.scatter(x = 'High', y = 'score')\n",
    "merged_df.to_csv(\"../data/merged.csv\",encoding='utf-8', index=False)"
   ]
  }
 ],
 "metadata": {
  "kernelspec": {
   "display_name": "Python 3.10.0 64-bit",
   "language": "python",
   "name": "python3"
  },
  "language_info": {
   "codemirror_mode": {
    "name": "ipython",
    "version": 3
   },
   "file_extension": ".py",
   "mimetype": "text/x-python",
   "name": "python",
   "nbconvert_exporter": "python",
   "pygments_lexer": "ipython3",
   "version": "3.10.0 (v3.10.0:b494f5935c, Oct  4 2021, 14:59:20) [Clang 12.0.5 (clang-1205.0.22.11)]"
  },
  "orig_nbformat": 4,
  "vscode": {
   "interpreter": {
    "hash": "aee8b7b246df8f9039afb4144a1f6fd8d2ca17a180786b69acc140d282b71a49"
   }
  }
 },
 "nbformat": 4,
 "nbformat_minor": 2
}
