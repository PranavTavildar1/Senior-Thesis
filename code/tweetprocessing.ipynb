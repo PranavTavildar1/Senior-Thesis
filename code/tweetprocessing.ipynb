{
 "cells": [
  {
   "cell_type": "code",
   "execution_count": 3,
   "metadata": {},
   "outputs": [],
   "source": [
    "import pandas as pd\n",
    "import os\n",
    "import glob"
   ]
  },
  {
   "cell_type": "code",
   "execution_count": 30,
   "metadata": {},
   "outputs": [
    {
     "name": "stdout",
     "output_type": "stream",
     "text": [
      "21 files were read and combined properly\n",
      "           Tweet ID       Likes\n",
      "count  3.100000e+02  310.000000\n",
      "mean   1.394054e+18    3.880645\n",
      "std    3.247260e+15   20.607174\n",
      "min    1.388595e+18    0.000000\n",
      "25%    1.391169e+18    0.000000\n",
      "50%    1.394050e+18    0.000000\n",
      "75%    1.396936e+18    2.000000\n",
      "max    1.399516e+18  323.000000\n",
      "Error reading file CVX-Tweets-12-2022-310.csv: Error tokenizing data. C error: Buffer overflow caught - possible malformed input file.\n",
      "\n"
     ]
    }
   ],
   "source": [
    "os.chdir(\"/Users/pranavtavildar/Desktop/Senior-Thesis/data/monthlydata\")  \n",
    "#creating big csv\n",
    "extension = 'csv'\n",
    "all_filenames = [i for i in glob.glob('*.{}'.format(extension))]\n",
    "#combine all files in the list\n",
    "all_filenames.remove('CVX-Tweets-12-2022-310.csv')\n",
    "\n",
    "combined_csv = pd.DataFrame()\n",
    "i = 0\n",
    "for f in all_filenames:\n",
    "    try:\n",
    "        df = pd.read_csv(f, encoding='utf-8-sig')\n",
    "        # df.info()\n",
    "        combined_csv = pd.concat([combined_csv, df], ignore_index=True, verify_integrity=True)\n",
    "        i += 1\n",
    "    except Exception as e:\n",
    "        print(i, \"files were read and combined properly\")\n",
    "        # df.info()\n",
    "        print(df.describe())\n",
    "        print(f\"Error reading file {f}: {str(e)}\")\n",
    "        \n",
    "\n",
    "# #export to csv\n",
    "# combined_csv.to_csv( \"CVXTweets.csv\", index=False, encoding='utf-8-sig')"
   ]
  }
 ],
 "metadata": {
  "kernelspec": {
   "display_name": "Python 3",
   "language": "python",
   "name": "python3"
  },
  "language_info": {
   "codemirror_mode": {
    "name": "ipython",
    "version": 3
   },
   "file_extension": ".py",
   "mimetype": "text/x-python",
   "name": "python",
   "nbconvert_exporter": "python",
   "pygments_lexer": "ipython3",
   "version": "3.10.0"
  },
  "orig_nbformat": 4,
  "vscode": {
   "interpreter": {
    "hash": "aee8b7b246df8f9039afb4144a1f6fd8d2ca17a180786b69acc140d282b71a49"
   }
  }
 },
 "nbformat": 4,
 "nbformat_minor": 2
}
