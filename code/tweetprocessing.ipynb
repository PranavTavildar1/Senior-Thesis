{
 "cells": [
  {
   "cell_type": "code",
   "execution_count": 60,
   "metadata": {},
   "outputs": [],
   "source": [
    "###installing dependencies\n",
    "import pandas as pd\n",
    "import numpy as np\n",
    "import os\n",
    "import glob\n",
    "import yfinance as yf\n",
    "import datetime\n",
    "import re\n",
    "import emoji\n",
    "import nltk\n",
    "from nltk.corpus import stopwords\n",
    "from textblob import TextBlob\n"
   ]
  },
  {
   "cell_type": "code",
   "execution_count": 35,
   "metadata": {},
   "outputs": [],
   "source": [
    "os.chdir(\"/Users/pranavtavildar/Desktop/Senior-Thesis/data/monthlydata\")  \n",
    "#creating big csv\n",
    "extension = 'csv'\n",
    "all_filenames = [i for i in glob.glob('*.{}'.format(extension))]\n",
    "#combine all files in the list\n",
    "#all_filenames.remove('CVX-Tweets-12-2022-310.csv')\n",
    "\n",
    "\n",
    "combined_csv = pd.DataFrame()\n",
    "i = 0\n",
    "for f in all_filenames:\n",
    "    try:\n",
    "        df = pd.read_csv(f, encoding='utf-8-sig',lineterminator='\\n')\n",
    "        # df.info()\n",
    "        combined_csv = pd.concat([combined_csv, df], ignore_index=True, verify_integrity=True)\n",
    "        i += 1\n",
    "    except Exception as e:\n",
    "        print(i, \"files were read and combined properly\")\n",
    "        # df.info()\n",
    "        print(df.describe())\n",
    "        print(f\"Error reading file {f}: {str(e)}\")\n",
    "        \n",
    "\n",
    "# #export to csv\n",
    "combined_csv.to_csv( \"../CVXTweets.csv\", index=False, encoding='utf-8-sig')"
   ]
  },
  {
   "cell_type": "code",
   "execution_count": 45,
   "metadata": {},
   "outputs": [
    {
     "name": "stdout",
     "output_type": "stream",
     "text": [
      "[*********************100%***********************]  1 of 1 completed\n"
     ]
    }
   ],
   "source": [
    "os.chdir(\"/Users/pranavtavildar/Desktop/Senior-Thesis/data\")\n",
    "\n",
    "# Retrieve the data from Yahoo Finance\n",
    "start_date = datetime.date(2021, 1, 1)\n",
    "end_date = datetime.date(2022, 12, 31)\n",
    "\n",
    "cvx_data = yf.download('CVX', start=start_date, end=end_date)\n",
    "\n",
    "cvx_data.to_csv('CVX_stock_data.csv')\n",
    "\n"
   ]
  },
  {
   "cell_type": "code",
   "execution_count": 48,
   "metadata": {},
   "outputs": [],
   "source": [
    "# Loading stock data \n",
    "stock_data = pd.read_csv(\"CVX_stock_data.csv\")\n",
    "stock_data[\"Date\"] = pd.to_datetime(stock_data[\"Date\"])\n",
    "stock_data = stock_data.set_index(\"Date\")\n",
    "\n",
    "# Loading tweets\n",
    "tweets = pd.read_csv(\"CVXTweets.csv\",encoding='utf-8-sig',lineterminator='\\n')\n",
    "tweets[\"Date\"] = pd.to_datetime(tweets[\"Date\"])\n",
    "\n",
    "# Filtering tweets\n",
    "filtered_tweets = tweets.loc[tweets[\"Date\"].dt.date.isin(stock_data.index.date)]\n",
    "\n",
    "# Save the filtered tweets to a new CSV file\n",
    "filtered_tweets.to_csv(\"CVXTweets_filtered.csv\", index=False)\n"
   ]
  },
  {
   "cell_type": "code",
   "execution_count": 62,
   "metadata": {},
   "outputs": [
    {
     "name": "stderr",
     "output_type": "stream",
     "text": [
      "/var/folders/kz/950pxqcd0zn5rw95_9btv5p00000gn/T/ipykernel_51375/2638477000.py:3: DeprecationWarning: `np.float` is a deprecated alias for the builtin `float`. To silence this warning, use `float` by itself. Doing this will not modify any behavior and is safe. If you specifically wanted the numpy scalar type, use `np.float64` here.\n",
      "Deprecated in NumPy 1.20; for more details and guidance: https://numpy.org/devdocs/release/1.20.0-notes.html#deprecations\n",
      "  if type(tweet) == np.float:\n",
      "/var/folders/kz/950pxqcd0zn5rw95_9btv5p00000gn/T/ipykernel_51375/2638477000.py:20: SettingWithCopyWarning: \n",
      "A value is trying to be set on a copy of a slice from a DataFrame.\n",
      "Try using .loc[row_indexer,col_indexer] = value instead\n",
      "\n",
      "See the caveats in the documentation: https://pandas.pydata.org/pandas-docs/stable/user_guide/indexing.html#returning-a-view-versus-a-copy\n",
      "  filtered_tweets['cleaned_text'] = filtered_tweets['Text'].apply(clean_tweet)\n"
     ]
    },
    {
     "name": "stdout",
     "output_type": "stream",
     "text": [
      "False\n"
     ]
    },
    {
     "data": {
      "text/html": [
       "<div>\n",
       "<style scoped>\n",
       "    .dataframe tbody tr th:only-of-type {\n",
       "        vertical-align: middle;\n",
       "    }\n",
       "\n",
       "    .dataframe tbody tr th {\n",
       "        vertical-align: top;\n",
       "    }\n",
       "\n",
       "    .dataframe thead th {\n",
       "        text-align: right;\n",
       "    }\n",
       "</style>\n",
       "<table border=\"1\" class=\"dataframe\">\n",
       "  <thead>\n",
       "    <tr style=\"text-align: right;\">\n",
       "      <th></th>\n",
       "      <th>Date</th>\n",
       "      <th>Tweet ID</th>\n",
       "      <th>Text</th>\n",
       "      <th>Likes</th>\n",
       "    </tr>\n",
       "  </thead>\n",
       "  <tbody>\n",
       "    <tr>\n",
       "      <th>0</th>\n",
       "      <td>2021-02-01 23:55:56+00:00</td>\n",
       "      <td>1356390859781132288</td>\n",
       "      <td>@JeremyPryer @TheSarcasmFiend @God_Complex_013...</td>\n",
       "      <td>1</td>\n",
       "    </tr>\n",
       "    <tr>\n",
       "      <th>1</th>\n",
       "      <td>2021-02-01 23:40:05+00:00</td>\n",
       "      <td>1356386873757868032</td>\n",
       "      <td>$BLSP Set to run this week. Biden environmenta...</td>\n",
       "      <td>6</td>\n",
       "    </tr>\n",
       "    <tr>\n",
       "      <th>2</th>\n",
       "      <td>2021-02-01 23:38:23+00:00</td>\n",
       "      <td>1356386446127427584</td>\n",
       "      <td>Reports this weekend that $XOM and $CVX discus...</td>\n",
       "      <td>7</td>\n",
       "    </tr>\n",
       "    <tr>\n",
       "      <th>3</th>\n",
       "      <td>2021-02-01 23:35:32+00:00</td>\n",
       "      <td>1356385727173525511</td>\n",
       "      <td>Eyecatching stuff: $XOM/$CVX merger rumor gets...</td>\n",
       "      <td>182</td>\n",
       "    </tr>\n",
       "    <tr>\n",
       "      <th>4</th>\n",
       "      <td>2021-02-01 23:14:56+00:00</td>\n",
       "      <td>1356380541906419712</td>\n",
       "      <td>@firstaidspray @TheSarcasmFiend @God_Complex_0...</td>\n",
       "      <td>0</td>\n",
       "    </tr>\n",
       "  </tbody>\n",
       "</table>\n",
       "</div>"
      ],
      "text/plain": [
       "                        Date             Tweet ID  \\\n",
       "0  2021-02-01 23:55:56+00:00  1356390859781132288   \n",
       "1  2021-02-01 23:40:05+00:00  1356386873757868032   \n",
       "2  2021-02-01 23:38:23+00:00  1356386446127427584   \n",
       "3  2021-02-01 23:35:32+00:00  1356385727173525511   \n",
       "4  2021-02-01 23:14:56+00:00  1356380541906419712   \n",
       "\n",
       "                                                Text  Likes  \n",
       "0  @JeremyPryer @TheSarcasmFiend @God_Complex_013...      1  \n",
       "1  $BLSP Set to run this week. Biden environmenta...      6  \n",
       "2  Reports this weekend that $XOM and $CVX discus...      7  \n",
       "3  Eyecatching stuff: $XOM/$CVX merger rumor gets...    182  \n",
       "4  @firstaidspray @TheSarcasmFiend @God_Complex_0...      0  "
      ]
     },
     "execution_count": 62,
     "metadata": {},
     "output_type": "execute_result"
    }
   ],
   "source": [
    "###Preprocessing Tweets\n",
    "def clean_tweet(tweet):\n",
    "    if type(tweet) == np.float:\n",
    "        return \"\"\n",
    "    r = tweet.lower()\n",
    "    r = re.sub(\"'\", \"\", r) # This is to avoid removing contractions in english\n",
    "    r = re.sub(\"@[A-Za-z0-9_]+\",\"\", r)\n",
    "    r = re.sub(\"#[A-Za-z0-9_]+\",\"\", r)\n",
    "    r = re.sub(r'http\\S+', '', r)\n",
    "    r = re.sub('[()!?]', ' ', r)\n",
    "    r = re.sub('\\[.*?\\]',' ', r)\n",
    "    r = re.sub(\"[^a-z0-9]\",\" \", r)\n",
    "    r = r.split()\n",
    "    stopwords = [\"for\", \"on\", \"an\", \"a\", \"of\", \"and\", \"in\", \"the\", \"to\", \"from\"]\n",
    "    r = [w for w in r if not w in stopwords]\n",
    "    r = \" \".join(word for word in r)\n",
    "    return r\n",
    "\n",
    "# Apply the clean_tweet function \n",
    "filtered_tweets['cleaned_text'] = filtered_tweets['Text'].apply(clean_tweet)\n",
    "\n",
    "filtered_tweets.to_csv('CVXTweets_cleaned.csv', index=False)\n",
    "\n",
    "unfiltered_tweets = pd.read_csv(\"CVXTweets_filtered.csv\",encoding='utf-8-sig',lineterminator='\\n')\n",
    "\n",
    "print(unfiltered_tweets.equals(filtered_tweets))\n",
    "unfiltered_tweets.head()"
   ]
  },
  {
   "cell_type": "code",
   "execution_count": 69,
   "metadata": {},
   "outputs": [
    {
     "name": "stderr",
     "output_type": "stream",
     "text": [
      "/var/folders/kz/950pxqcd0zn5rw95_9btv5p00000gn/T/ipykernel_51375/1803340424.py:3: SettingWithCopyWarning: \n",
      "A value is trying to be set on a copy of a slice from a DataFrame.\n",
      "Try using .loc[row_indexer,col_indexer] = value instead\n",
      "\n",
      "See the caveats in the documentation: https://pandas.pydata.org/pandas-docs/stable/user_guide/indexing.html#returning-a-view-versus-a-copy\n",
      "  filtered_tweets['sentiment'] = filtered_tweets['cleaned_text'].apply(lambda x: TextBlob(x).sentiment.polarity)\n"
     ]
    },
    {
     "data": {
      "text/html": [
       "<div>\n",
       "<style scoped>\n",
       "    .dataframe tbody tr th:only-of-type {\n",
       "        vertical-align: middle;\n",
       "    }\n",
       "\n",
       "    .dataframe tbody tr th {\n",
       "        vertical-align: top;\n",
       "    }\n",
       "\n",
       "    .dataframe thead th {\n",
       "        text-align: right;\n",
       "    }\n",
       "</style>\n",
       "<table border=\"1\" class=\"dataframe\">\n",
       "  <thead>\n",
       "    <tr style=\"text-align: right;\">\n",
       "      <th></th>\n",
       "      <th>Date</th>\n",
       "      <th>Tweet ID</th>\n",
       "      <th>Text</th>\n",
       "      <th>Likes</th>\n",
       "      <th>cleaned_text</th>\n",
       "      <th>sentiment</th>\n",
       "    </tr>\n",
       "  </thead>\n",
       "  <tbody>\n",
       "    <tr>\n",
       "      <th>0</th>\n",
       "      <td>2021-02-01 23:55:56+00:00</td>\n",
       "      <td>1356390859781132288</td>\n",
       "      <td>@JeremyPryer @TheSarcasmFiend @God_Complex_013...</td>\n",
       "      <td>1</td>\n",
       "      <td>thanks context but fact that cvx isnt switch t...</td>\n",
       "      <td>0.050000</td>\n",
       "    </tr>\n",
       "    <tr>\n",
       "      <th>1</th>\n",
       "      <td>2021-02-01 23:40:05+00:00</td>\n",
       "      <td>1356386873757868032</td>\n",
       "      <td>$BLSP Set to run this week. Biden environmenta...</td>\n",
       "      <td>6</td>\n",
       "      <td>blsp set run this week biden environmental pla...</td>\n",
       "      <td>-0.200000</td>\n",
       "    </tr>\n",
       "    <tr>\n",
       "      <th>2</th>\n",
       "      <td>2021-02-01 23:38:23+00:00</td>\n",
       "      <td>1356386446127427584</td>\n",
       "      <td>Reports this weekend that $XOM and $CVX discus...</td>\n",
       "      <td>7</td>\n",
       "      <td>reports this weekend that xom cvx discussed po...</td>\n",
       "      <td>0.100000</td>\n",
       "    </tr>\n",
       "    <tr>\n",
       "      <th>3</th>\n",
       "      <td>2021-02-01 23:35:32+00:00</td>\n",
       "      <td>1356385727173525511</td>\n",
       "      <td>Eyecatching stuff: $XOM/$CVX merger rumor gets...</td>\n",
       "      <td>182</td>\n",
       "      <td>eyecatching stuff xom cvx merger rumor gets no...</td>\n",
       "      <td>-0.263889</td>\n",
       "    </tr>\n",
       "    <tr>\n",
       "      <th>4</th>\n",
       "      <td>2021-02-01 23:14:56+00:00</td>\n",
       "      <td>1356380541906419712</td>\n",
       "      <td>@firstaidspray @TheSarcasmFiend @God_Complex_0...</td>\n",
       "      <td>0</td>\n",
       "      <td>these links direct specific sites that were se...</td>\n",
       "      <td>0.063333</td>\n",
       "    </tr>\n",
       "  </tbody>\n",
       "</table>\n",
       "</div>"
      ],
      "text/plain": [
       "                       Date             Tweet ID  \\\n",
       "0 2021-02-01 23:55:56+00:00  1356390859781132288   \n",
       "1 2021-02-01 23:40:05+00:00  1356386873757868032   \n",
       "2 2021-02-01 23:38:23+00:00  1356386446127427584   \n",
       "3 2021-02-01 23:35:32+00:00  1356385727173525511   \n",
       "4 2021-02-01 23:14:56+00:00  1356380541906419712   \n",
       "\n",
       "                                                Text  Likes  \\\n",
       "0  @JeremyPryer @TheSarcasmFiend @God_Complex_013...      1   \n",
       "1  $BLSP Set to run this week. Biden environmenta...      6   \n",
       "2  Reports this weekend that $XOM and $CVX discus...      7   \n",
       "3  Eyecatching stuff: $XOM/$CVX merger rumor gets...    182   \n",
       "4  @firstaidspray @TheSarcasmFiend @God_Complex_0...      0   \n",
       "\n",
       "                                        cleaned_text  sentiment  \n",
       "0  thanks context but fact that cvx isnt switch t...   0.050000  \n",
       "1  blsp set run this week biden environmental pla...  -0.200000  \n",
       "2  reports this weekend that xom cvx discussed po...   0.100000  \n",
       "3  eyecatching stuff xom cvx merger rumor gets no...  -0.263889  \n",
       "4  these links direct specific sites that were se...   0.063333  "
      ]
     },
     "execution_count": 69,
     "metadata": {},
     "output_type": "execute_result"
    }
   ],
   "source": [
    "###Sentiment Analysis \n",
    "\n",
    "filtered_tweets['sentiment'] = filtered_tweets['cleaned_text'].apply(lambda x: TextBlob(x).sentiment.polarity)\n",
    "\n",
    "filtered_tweets.to_csv('CVXTweets_sentiments.csv', index=False)\n",
    "filtered_tweets.head()\n"
   ]
  },
  {
   "cell_type": "code",
   "execution_count": 75,
   "metadata": {},
   "outputs": [
    {
     "name": "stderr",
     "output_type": "stream",
     "text": [
      "/var/folders/kz/950pxqcd0zn5rw95_9btv5p00000gn/T/ipykernel_51375/2124092546.py:2: SettingWithCopyWarning: \n",
      "A value is trying to be set on a copy of a slice from a DataFrame.\n",
      "Try using .loc[row_indexer,col_indexer] = value instead\n",
      "\n",
      "See the caveats in the documentation: https://pandas.pydata.org/pandas-docs/stable/user_guide/indexing.html#returning-a-view-versus-a-copy\n",
      "  filtered_tweets['Date'] = pd.to_datetime(filtered_tweets['Date']).dt.date\n"
     ]
    },
    {
     "data": {
      "text/plain": [
       "Date\n",
       "2021-01-04    0.132750\n",
       "2021-01-05    0.123115\n",
       "2021-01-06    0.073396\n",
       "2021-01-07    0.032773\n",
       "2021-01-08    0.057576\n",
       "Name: sentiment, dtype: float64"
      ]
     },
     "execution_count": 75,
     "metadata": {},
     "output_type": "execute_result"
    }
   ],
   "source": [
    "# group the data by Date and calculate the mean sentiment\n",
    "filtered_tweets['Date'] = pd.to_datetime(filtered_tweets['Date']).dt.date\n",
    "avg_sentiment = filtered_tweets.groupby(['Date'])['sentiment'].mean()\n",
    "filtered_tweets.to_csv('daily_sentiments.csv', index=False)\n",
    "avg_sentiment.head()"
   ]
  },
  {
   "cell_type": "code",
   "execution_count": 76,
   "metadata": {},
   "outputs": [
    {
     "name": "stderr",
     "output_type": "stream",
     "text": [
      "/var/folders/kz/950pxqcd0zn5rw95_9btv5p00000gn/T/ipykernel_51375/402456260.py:2: SettingWithCopyWarning: \n",
      "A value is trying to be set on a copy of a slice from a DataFrame.\n",
      "Try using .loc[row_indexer,col_indexer] = value instead\n",
      "\n",
      "See the caveats in the documentation: https://pandas.pydata.org/pandas-docs/stable/user_guide/indexing.html#returning-a-view-versus-a-copy\n",
      "  filtered_tweets['weighted_sentiment'] = filtered_tweets['sentiment'] * filtered_tweets['Likes']\n",
      "/var/folders/kz/950pxqcd0zn5rw95_9btv5p00000gn/T/ipykernel_51375/402456260.py:5: FutureWarning: Indexing with multiple keys (implicitly converted to a tuple of keys) will be deprecated, use a list instead.\n",
      "  weighted_avg_sentiment = filtered_tweets.groupby(['Date'])['weighted_sentiment', 'Likes'].sum()\n"
     ]
    },
    {
     "data": {
      "text/plain": [
       "Date\n",
       "2021-01-04    0.250000\n",
       "2021-01-05    0.399708\n",
       "2021-01-06    0.405114\n",
       "2021-01-07         NaN\n",
       "2021-01-08    0.000000\n",
       "Name: weighted_sentiment, dtype: float64"
      ]
     },
     "execution_count": 76,
     "metadata": {},
     "output_type": "execute_result"
    }
   ],
   "source": [
    "# calculate the weighted sentiment by multiplying the sentiment by Likes\n",
    "filtered_tweets['weighted_sentiment'] = filtered_tweets['sentiment'] * filtered_tweets['Likes']\n",
    "\n",
    "# group the data by Date and calculate the weighted mean sentiment\n",
    "weighted_avg_sentiment = filtered_tweets.groupby(['Date'])['weighted_sentiment', 'Likes'].sum()\n",
    "weighted_avg_sentiment['weighted_sentiment'] /= weighted_avg_sentiment['Likes']\n",
    "\n",
    "weighted_avg_sentiment.to_csv('weighted_daily_sentiments.csv', index=False)\n",
    "weighted_avg_sentiment['weighted_sentiment'].head()\n"
   ]
  }
 ],
 "metadata": {
  "kernelspec": {
   "display_name": "Python 3",
   "language": "python",
   "name": "python3"
  },
  "language_info": {
   "codemirror_mode": {
    "name": "ipython",
    "version": 3
   },
   "file_extension": ".py",
   "mimetype": "text/x-python",
   "name": "python",
   "nbconvert_exporter": "python",
   "pygments_lexer": "ipython3",
   "version": "3.10.0"
  },
  "orig_nbformat": 4,
  "vscode": {
   "interpreter": {
    "hash": "aee8b7b246df8f9039afb4144a1f6fd8d2ca17a180786b69acc140d282b71a49"
   }
  }
 },
 "nbformat": 4,
 "nbformat_minor": 2
}
